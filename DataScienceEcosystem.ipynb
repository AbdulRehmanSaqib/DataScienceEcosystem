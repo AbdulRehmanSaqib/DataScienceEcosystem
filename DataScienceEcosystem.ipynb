{
 "cells": [
  {
   "cell_type": "markdown",
   "id": "52133f7c",
   "metadata": {},
   "source": [
    "# Data Science Tools and Ecosystem"
   ]
  },
  {
   "cell_type": "markdown",
   "id": "18040396",
   "metadata": {},
   "source": [
    "# Objectives\n",
    "-List popular languages for Data Science\n",
    "-Demonstrate arithmetic expressions in Python\n",
    "-Introduce common data science libraries\n"
   ]
  },
  {
   "cell_type": "markdown",
   "id": "eee776a1",
   "metadata": {},
   "source": [
    "In this notebook, Data Science Tools and Ecosystem are summarized."
   ]
  },
  {
   "cell_type": "markdown",
   "id": "d45fa10e",
   "metadata": {},
   "source": [
    "Some of the popular languages that Data Scientists use are:\n",
    "-Python\n",
    "-R\n",
    "-Java"
   ]
  },
  {
   "cell_type": "markdown",
   "id": "5170bb39",
   "metadata": {},
   "source": [
    "Some of the commonly used libraries used by Data Scientists include:\n",
    "-NumPy\n",
    "-Keras\n",
    "-Pandas"
   ]
  },
  {
   "cell_type": "markdown",
   "id": "324597d0",
   "metadata": {},
   "source": [
    "Data Science Tools\n",
    "-Apache Spark\n",
    "-ggplot2\n",
    "-MATLAB"
   ]
  },
  {
   "cell_type": "markdown",
   "id": "91af0a72",
   "metadata": {},
   "source": [
    "# Below are a few examples of evaluating arithmetic expressions in Python"
   ]
  },
  {
   "cell_type": "code",
   "execution_count": 2,
   "id": "ac7dfeb9",
   "metadata": {},
   "outputs": [
    {
     "name": "stdout",
     "output_type": "stream",
     "text": [
      "17\n"
     ]
    }
   ],
   "source": [
    "a = (3*4)+5 #saving this arithmetic operation in variable \n",
    "print(a) #priniting the variable"
   ]
  },
  {
   "cell_type": "code",
   "execution_count": 3,
   "id": "e3801892",
   "metadata": {},
   "outputs": [
    {
     "name": "stdout",
     "output_type": "stream",
     "text": [
      "3.3333333333333335\n"
     ]
    }
   ],
   "source": [
    "b = 200/60 #converting 200 minutes in hours\n",
    "print(b)"
   ]
  },
  {
   "cell_type": "markdown",
   "id": "44937224",
   "metadata": {},
   "source": [
    "# Author\n",
    "Abdulrehman Saqib"
   ]
  }
 ],
 "metadata": {
  "kernelspec": {
   "display_name": "Python 3 (ipykernel)",
   "language": "python",
   "name": "python3"
  },
  "language_info": {
   "codemirror_mode": {
    "name": "ipython",
    "version": 3
   },
   "file_extension": ".py",
   "mimetype": "text/x-python",
   "name": "python",
   "nbconvert_exporter": "python",
   "pygments_lexer": "ipython3",
   "version": "3.11.4"
  }
 },
 "nbformat": 4,
 "nbformat_minor": 5
}
